{
 "cells": [
  {
   "cell_type": "markdown",
   "metadata": {
    "id": "kCeYA79m1DEX"
   },
   "source": [
    "## Recomendación de peliculas\n",
    "\n",
    "En este notebook exploramos un sistema de recomendación simple con la librerias TensorFlow + Keras. Los sistemas de recomendación se suelen componer de dos etapas:\n",
    "\n",
    "La primera etapa se envarga de seleccionar un conjunto inicial de cientos de candidatos de entre todos los posibles. El principal objetivo de este modelo es filtrar eficientemente todos los candidatos en los que el usuario no está interesado.\n",
    "En este notebooks, nos vamos a centrar en la primera etapa. La segunda etapa, de clasificación, toma las salidas de la primera etapa y las ajusta para seleccionar las mejores recomendaciones posibles\n",
    "\n",
    "Vamos a construir y entrenar un modelo Two-Tower utilizando el conjunto de datos Movielens.\n",
    "\n",
    "Vamos a:\n",
    "\n",
    "    - Obtener nuestros datos y dividirlos en un conjunto de entrenamiento y uno de prueba.\n",
    "    - Implementar un modelo de recuperación.\n",
    "    - Ajustarlo y evaluarlo."
   ]
  },
  {
   "cell_type": "markdown",
   "metadata": {
    "id": "H7QZ3kkMQo48"
   },
   "source": [
    "## Los datos\n",
    "\n",
    "El conjunto de datos Movielens es un conjunto de datos del Grupo de investigación GroupLens. Contiene un conjunto de calificaciones dadas a películas por un conjunto de usuarios.\n",
    "\n",
    "En este notebook, nos estamos centrando en un sistema de recuperación: un modelo que predice un conjunto de películas del catálogo que es probable que el usuario vea. A menudo, los datos implícitos son más útiles aquí, por lo que vamos a tratar Movielens como un sistema implícito. Esto significa que cada película que un usuario ha visto es un ejemplo positivo, y cada película que no ha visto es un ejemplo negativo implícito."
   ]
  },
  {
   "cell_type": "markdown",
   "metadata": {
    "id": "sawo1x8kQk9b"
   },
   "source": [
    "## Imports"
   ]
  },
  {
   "cell_type": "code",
   "execution_count": 72,
   "metadata": {
    "execution": {
     "iopub.execute_input": "2022-12-14T12:14:43.786040Z",
     "iopub.status.busy": "2022-12-14T12:14:43.785417Z",
     "iopub.status.idle": "2022-12-14T12:14:46.124871Z",
     "shell.execute_reply": "2022-12-14T12:14:46.124090Z"
    },
    "id": "SZGYDaF-m5wZ"
   },
   "outputs": [],
   "source": [
    "import os\n",
    "import pprint\n",
    "import tempfile\n",
    "import datetime\n",
    "from typing import Dict, Text\n",
    "\n",
    "import numpy as np\n",
    "import tensorflow as tf\n",
    "import tensorflow_datasets as tfds"
   ]
  },
  {
   "cell_type": "code",
   "execution_count": 73,
   "metadata": {
    "execution": {
     "iopub.execute_input": "2022-12-14T12:14:46.129174Z",
     "iopub.status.busy": "2022-12-14T12:14:46.128402Z",
     "iopub.status.idle": "2022-12-14T12:14:46.157190Z",
     "shell.execute_reply": "2022-12-14T12:14:46.156613Z"
    },
    "id": "BxQ_hy7xPH3N"
   },
   "outputs": [],
   "source": [
    "import tensorflow_recommenders as tfrs"
   ]
  },
  {
   "cell_type": "markdown",
   "metadata": {
    "id": "5PAqjR4a1RR4"
   },
   "source": [
    "## Preparing the dataset\n",
    "\n",
    "Utilizamos el conjunto de datos MovieLens de Tensorflow Datasets. movielens/100k_ratings contiene los datos de los ratings, y movielens/100k_movies contiene únicamente los datos solo de las películas."
   ]
  },
  {
   "cell_type": "code",
   "execution_count": 74,
   "metadata": {
    "execution": {
     "iopub.execute_input": "2022-12-14T12:14:46.160847Z",
     "iopub.status.busy": "2022-12-14T12:14:46.160294Z",
     "iopub.status.idle": "2022-12-14T12:14:50.820501Z",
     "shell.execute_reply": "2022-12-14T12:14:50.819822Z"
    },
    "id": "aaQhqcLGP0jL"
   },
   "outputs": [],
   "source": [
    "ratings = tfds.load(\"movielens/100k-ratings\", split=\"train\")\n",
    "movies = tfds.load(\"movielens/100k-movies\", split=\"train\")"
   ]
  },
  {
   "cell_type": "markdown",
   "metadata": {
    "id": "JRHorm8W1yf3"
   },
   "source": [
    "El conjunto de datos de ratings devuelve un diccionario que incluye el ID de la película, el ID del usuario, la calificación asignada, la marca de tiempo, la información de la película y la información del usuario:"
   ]
  },
  {
   "cell_type": "code",
   "execution_count": 75,
   "metadata": {
    "execution": {
     "iopub.execute_input": "2022-12-14T12:14:50.824683Z",
     "iopub.status.busy": "2022-12-14T12:14:50.824148Z",
     "iopub.status.idle": "2022-12-14T12:14:51.234374Z",
     "shell.execute_reply": "2022-12-14T12:14:51.233558Z"
    },
    "id": "_1-KQV2ynMdh"
   },
   "outputs": [
    {
     "name": "stdout",
     "output_type": "stream",
     "text": [
      "{'bucketized_user_age': 45.0,\n",
      " 'movie_genres': array([7], dtype=int64),\n",
      " 'movie_id': b'357',\n",
      " 'movie_title': b\"One Flew Over the Cuckoo's Nest (1975)\",\n",
      " 'raw_user_age': 46.0,\n",
      " 'timestamp': 879024327,\n",
      " 'user_gender': True,\n",
      " 'user_id': b'138',\n",
      " 'user_occupation_label': 4,\n",
      " 'user_occupation_text': b'doctor',\n",
      " 'user_rating': 4.0,\n",
      " 'user_zip_code': b'53211'}\n"
     ]
    }
   ],
   "source": [
    "for x in ratings.take(1).as_numpy_iterator():\n",
    "  pprint.pprint(x)"
   ]
  },
  {
   "cell_type": "markdown",
   "metadata": {
    "id": "qGLGCjSt_q96"
   },
   "source": [
    "El conjunto de datos de películas contiene el ID de la película, el título de la película y datos sobre los géneros a los que pertenece."
   ]
  },
  {
   "cell_type": "code",
   "execution_count": 76,
   "metadata": {
    "execution": {
     "iopub.execute_input": "2022-12-14T12:14:51.238249Z",
     "iopub.status.busy": "2022-12-14T12:14:51.237724Z",
     "iopub.status.idle": "2022-12-14T12:14:51.397453Z",
     "shell.execute_reply": "2022-12-14T12:14:51.396583Z"
    },
    "id": "kHLsIHhw_x1d"
   },
   "outputs": [
    {
     "name": "stdout",
     "output_type": "stream",
     "text": [
      "{'movie_genres': array([4], dtype=int64),\n",
      " 'movie_id': b'1681',\n",
      " 'movie_title': b'You So Crazy (1994)'}\n"
     ]
    }
   ],
   "source": [
    "for x in movies.take(1).as_numpy_iterator():\n",
    "  pprint.pprint(x)"
   ]
  },
  {
   "cell_type": "markdown",
   "metadata": {
    "id": "YUdT-f4RxMKs"
   },
   "source": [
    "Nos quedamos solo con los campos user_id y movie_title."
   ]
  },
  {
   "cell_type": "code",
   "execution_count": 77,
   "metadata": {
    "execution": {
     "iopub.execute_input": "2022-12-14T12:14:51.401075Z",
     "iopub.status.busy": "2022-12-14T12:14:51.400394Z",
     "iopub.status.idle": "2022-12-14T12:14:51.439981Z",
     "shell.execute_reply": "2022-12-14T12:14:51.439183Z"
    },
    "id": "uhbEvPJqxLec"
   },
   "outputs": [],
   "source": [
    "ratings = ratings.map(lambda x: {\n",
    "    \"movie_title\": x[\"movie_title\"],\n",
    "    \"user_id\": x[\"user_id\"],\n",
    "})\n",
    "movies = movies.map(lambda x: x[\"movie_title\"])"
   ]
  },
  {
   "cell_type": "markdown",
   "metadata": {
    "id": "Iu4XSa_G1nyN"
   },
   "source": [
    "Para ajustar y evaluar el modelo, necesitamos dividir el conjunto de datos en un conjunto de entrenamiento y otro de evaluación. En un sistema de recomendación industrial, esto probablemente se haría en función del tiempo: los datos hasta el momento $T$ se utilizarían para predecir interacciones después de $T$.\n",
    "\n",
    "En este ejemplo sencillo, utilizamos una particion aleatoria, asignando el 80% de las calificaciones en el conjunto de entrenamiento y el 20% en el conjunto de prueba."
   ]
  },
  {
   "cell_type": "code",
   "execution_count": 78,
   "metadata": {
    "execution": {
     "iopub.execute_input": "2022-12-14T12:14:51.443668Z",
     "iopub.status.busy": "2022-12-14T12:14:51.443068Z",
     "iopub.status.idle": "2022-12-14T12:14:51.458390Z",
     "shell.execute_reply": "2022-12-14T12:14:51.457592Z"
    },
    "id": "rS0eDfkjnjJL"
   },
   "outputs": [],
   "source": [
    "tf.random.set_seed(42)\n",
    "shuffled = ratings.shuffle(100_000, seed=42, reshuffle_each_iteration=False)\n",
    "\n",
    "train = shuffled.take(80_000)\n",
    "test = shuffled.skip(80_000).take(20_000)"
   ]
  },
  {
   "cell_type": "markdown",
   "metadata": {
    "id": "gVi1HJfR9D7H"
   },
   "source": [
    "También obtenemos los IDs de usuarios únicos y los títulos de películas presentes en los datos.\n",
    "\n",
    "Esto es importante porque necesitamos poder mapear los valores brutos de nuestras características a vectores de embedding en nuestros modelos. Para hacer eso, necesitamos un vocabulario que asigne un valor bruto de una característica a un entero en un rango contiguo: esto nos permite buscar los embeddings correspondientes en nuestras tabla de embeddings."
   ]
  },
  {
   "cell_type": "code",
   "execution_count": 79,
   "metadata": {
    "execution": {
     "iopub.execute_input": "2022-12-14T12:14:51.461942Z",
     "iopub.status.busy": "2022-12-14T12:14:51.461458Z",
     "iopub.status.idle": "2022-12-14T12:14:55.278389Z",
     "shell.execute_reply": "2022-12-14T12:14:55.277759Z"
    },
    "id": "MKROCiPo_5LJ"
   },
   "outputs": [
    {
     "data": {
      "text/plain": [
       "array([b\"'Til There Was You (1997)\", b'1-900 (1994)',\n",
       "       b'101 Dalmatians (1996)', b'12 Angry Men (1957)', b'187 (1997)',\n",
       "       b'2 Days in the Valley (1996)',\n",
       "       b'20,000 Leagues Under the Sea (1954)',\n",
       "       b'2001: A Space Odyssey (1968)',\n",
       "       b'3 Ninjas: High Noon At Mega Mountain (1998)',\n",
       "       b'39 Steps, The (1935)'], dtype=object)"
      ]
     },
     "execution_count": 79,
     "metadata": {},
     "output_type": "execute_result"
    }
   ],
   "source": [
    "movie_titles = movies.batch(1_000)\n",
    "user_ids = ratings.batch(1_000_000).map(lambda x: x[\"user_id\"])\n",
    "\n",
    "unique_movie_titles = np.unique(np.concatenate(list(movie_titles)))\n",
    "unique_user_ids = np.unique(np.concatenate(list(user_ids)))\n",
    "\n",
    "unique_movie_titles[:10]"
   ]
  },
  {
   "cell_type": "markdown",
   "metadata": {
    "id": "eCi-seR86qqa"
   },
   "source": [
    "Implementación de un modelo\n",
    "\n",
    "Elegir la arquitectura de nuestro modelo es una parte clave del modelado.\n",
    "\n",
    "Dado que estamos construyendo un modelo Two-Tower, podemos construir cada torre por separado y luego combinarlas en el modelo final."
   ]
  },
  {
   "cell_type": "markdown",
   "metadata": {
    "id": "z20PyfSXP3Um"
   },
   "source": [
    "### La torre de consultas"
   ]
  },
  {
   "cell_type": "code",
   "execution_count": 80,
   "metadata": {
    "execution": {
     "iopub.execute_input": "2022-12-14T12:14:55.282342Z",
     "iopub.status.busy": "2022-12-14T12:14:55.281744Z",
     "iopub.status.idle": "2022-12-14T12:14:55.284764Z",
     "shell.execute_reply": "2022-12-14T12:14:55.284221Z"
    },
    "id": "QbIy1FP8aCTq"
   },
   "outputs": [],
   "source": [
    "embedding_dimension = 32"
   ]
  },
  {
   "cell_type": "markdown",
   "metadata": {
    "id": "IJYwjpLRaEzj"
   },
   "source": [
    "Valores más altos de dimensionalidad corresponderán a modelos que pueden ser más precisos, pero que también serán más lentos de ajustar y más propensos al overfitting.\n",
    "\n",
    "El segundo paso es definir el modelo en sí. Aquí, vamos a utilizar las capas de preprocesamiento de Keras para convertir primero los IDs de usuario en enteros y luego convertirlos en embeddings de usuario a través de una capa de embedding."
   ]
  },
  {
   "cell_type": "code",
   "execution_count": 81,
   "metadata": {
    "execution": {
     "iopub.execute_input": "2022-12-14T12:14:55.288142Z",
     "iopub.status.busy": "2022-12-14T12:14:55.287644Z",
     "iopub.status.idle": "2022-12-14T12:14:55.309538Z",
     "shell.execute_reply": "2022-12-14T12:14:55.308953Z"
    },
    "id": "kHQZJEhXP93N"
   },
   "outputs": [],
   "source": [
    "user_model = tf.keras.Sequential([\n",
    "  tf.keras.layers.StringLookup(\n",
    "      vocabulary=unique_user_ids, mask_token=None),\n",
    "  # Añadimos un embedding adicional para tener en cuenta los tokens desconocidos.\n",
    "  tf.keras.layers.Embedding(len(unique_user_ids) + 1, embedding_dimension)\n",
    "])"
   ]
  },
  {
   "cell_type": "markdown",
   "metadata": {
    "id": "Qvo2pEcdaiec"
   },
   "source": [
    "Un modelo simple como este corresponde exactamente a un enfoque clásico de [matrix factorization](https://ieeexplore.ieee.org/abstract/document/4781121)."
   ]
  },
  {
   "cell_type": "markdown",
   "metadata": {
    "id": "dG4YFy9SQ08d"
   },
   "source": [
    "### La torre de candidatos\n",
    "\n",
    "Hacemos el mismo proceso anterior con la torre de candidatos"
   ]
  },
  {
   "cell_type": "code",
   "execution_count": 70,
   "metadata": {
    "execution": {
     "iopub.execute_input": "2022-12-14T12:14:55.312874Z",
     "iopub.status.busy": "2022-12-14T12:14:55.312429Z",
     "iopub.status.idle": "2022-12-14T12:14:55.322239Z",
     "shell.execute_reply": "2022-12-14T12:14:55.321695Z"
    },
    "id": "qNUwfIJTQ332"
   },
   "outputs": [],
   "source": [
    "movie_model = tf.keras.Sequential([\n",
    "  tf.keras.layers.StringLookup(\n",
    "      vocabulary=unique_movie_titles, mask_token=None),\n",
    "  tf.keras.layers.Embedding(len(unique_movie_titles) + 1, embedding_dimension)\n",
    "])"
   ]
  },
  {
   "cell_type": "markdown",
   "metadata": {
    "id": "r10RiPtqVIAl"
   },
   "source": [
    "### Metricas\n",
    "\n",
    "En nuestros datos de entrenamiento, tenemos pares positivos (usuario, película). Para determinar qué tan bueno es nuestro modelo, necesitamos comparar la puntuación de afinidad que el modelo calcula para este par con las puntuaciones de todos los demás candidatos posibles: si la puntuación para el par positivo es más alta que para todos los otros candidatos, nuestro modelo es preciso.\n",
    "\n",
    "Para hacer esto, podemos usar la métrica tfrs.metrics.FactorizedTopK. Esta métrica tiene un unico parametro: el conjunto de datos de candidatos que se usan como negativos implícitos para la evaluación.\n",
    "\n",
    "En nuestro caso, ese es el conjunto de datos movies, convertido en embeddings a través de nuestro modelo de películas:"
   ]
  },
  {
   "cell_type": "code",
   "execution_count": 84,
   "metadata": {
    "execution": {
     "iopub.execute_input": "2022-12-14T12:14:55.325472Z",
     "iopub.status.busy": "2022-12-14T12:14:55.324927Z",
     "iopub.status.idle": "2022-12-14T12:14:55.379796Z",
     "shell.execute_reply": "2022-12-14T12:14:55.379242Z"
    },
    "id": "1dLDL6pZVPO8"
   },
   "outputs": [],
   "source": [
    "metrics = tfrs.metrics.FactorizedTopK(\n",
    "  candidates=movies.batch(128).map(movie_model)\n",
    ")"
   ]
  },
  {
   "cell_type": "markdown",
   "metadata": {
    "id": "nCaCqJsXSkCo"
   },
   "source": [
    "### Función de perdida\n",
    "\n",
    "El siguiente componente es la función de pérdida utilizada para entrenar nuestro modelo. TFRS tiene varias capas de pérdida y tareas para facilitar este proceso.\n",
    "\n",
    "En este caso, utilizaremos el objeto Retrieval task: un wrapper conveniente que agrupa la función de pérdida y el cálculo de métricas:"
   ]
  },
  {
   "cell_type": "code",
   "execution_count": 85,
   "metadata": {
    "execution": {
     "iopub.execute_input": "2022-12-14T12:14:55.383143Z",
     "iopub.status.busy": "2022-12-14T12:14:55.382610Z",
     "iopub.status.idle": "2022-12-14T12:14:55.387117Z",
     "shell.execute_reply": "2022-12-14T12:14:55.386545Z"
    },
    "id": "tJ61Iz2QTBw3"
   },
   "outputs": [],
   "source": [
    "task = tfrs.tasks.Retrieval(\n",
    "  metrics=metrics\n",
    ")"
   ]
  },
  {
   "cell_type": "markdown",
   "metadata": {
    "id": "9-3xFC-1cbz0"
   },
   "source": [
    "The task itself is a Keras layer that takes the query and candidate embeddings as arguments, and returns the computed loss: we'll use that to implement the model's training loop."
   ]
  },
  {
   "cell_type": "markdown",
   "metadata": {
    "id": "FZUFeSlWRHGx"
   },
   "source": [
    "### El modelo\n",
    "\n",
    "Ahora juntamos todo en un modelo. TFRS expone una clase base de modelo (tfrs.models.Model) que facilita la construcción de modelos: todo lo que necesitamos hacer es configurar los componentes en el método __init__ e implementar el método compute_loss, tomando las características en bruto y devolviendo un valor de pérdida.\n",
    "\n",
    "El modelo base se encargará de crear el bucle de entrenamiento adecuado para ajustar nuestro modelo."
   ]
  },
  {
   "cell_type": "code",
   "execution_count": 86,
   "metadata": {
    "execution": {
     "iopub.execute_input": "2022-12-14T12:14:55.390361Z",
     "iopub.status.busy": "2022-12-14T12:14:55.389921Z",
     "iopub.status.idle": "2022-12-14T12:14:55.394403Z",
     "shell.execute_reply": "2022-12-14T12:14:55.393862Z"
    },
    "id": "8n7c5CHFp0ow"
   },
   "outputs": [],
   "source": [
    "class MovielensModel(tfrs.Model):\n",
    "\n",
    "  def __init__(self, user_model, movie_model):\n",
    "    super().__init__()\n",
    "    self.movie_model: tf.keras.Model = movie_model\n",
    "    self.user_model: tf.keras.Model = user_model\n",
    "    self.task: tf.keras.layers.Layer = task\n",
    "\n",
    "  def compute_loss(self, features: Dict[Text, tf.Tensor], training=False) -> tf.Tensor:\n",
    "    # Seleccionamos las características del usuario y las pasamos al modelo de usuario.\n",
    "    user_embeddings = self.user_model(features[\"user_id\"])\n",
    "    # Seleccionamos las características de las películas y las pasamos al modelo de películas.\n",
    "    positive_movie_embeddings = self.movie_model(features[\"movie_title\"])\n",
    "\n",
    "    return self.task(user_embeddings, positive_movie_embeddings)"
   ]
  },
  {
   "cell_type": "markdown",
   "metadata": {
    "id": "yDN_LJGlnRGo"
   },
   "source": [
    "## Ajuste y evaluación\n",
    "\n",
    "Después de definir el modelo, podemos utilizar las rutinas estándar de ajuste y evaluación de Keras para entrenar y evaluar el modelo.\n",
    "\n",
    "Primero, vamos a instanciar el modelo"
   ]
  },
  {
   "cell_type": "code",
   "execution_count": 102,
   "metadata": {
    "execution": {
     "iopub.execute_input": "2022-12-14T12:14:55.407488Z",
     "iopub.status.busy": "2022-12-14T12:14:55.406935Z",
     "iopub.status.idle": "2022-12-14T12:14:55.419292Z",
     "shell.execute_reply": "2022-12-14T12:14:55.418729Z"
    },
    "id": "aW63YaqP2wCf"
   },
   "outputs": [],
   "source": [
    "model = MovielensModel(user_model, movie_model)\n",
    "model.compile(optimizer=tf.keras.optimizers.Adagrad(learning_rate=0.5))"
   ]
  },
  {
   "cell_type": "markdown",
   "metadata": {
    "id": "Nma0vc2XdN5g"
   },
   "source": [
    "Luego, mezclamos, agrupamos en batches y almacenamos en caché los datos de entrenamiento y evaluación."
   ]
  },
  {
   "cell_type": "code",
   "execution_count": 104,
   "metadata": {
    "execution": {
     "iopub.execute_input": "2022-12-14T12:14:55.422480Z",
     "iopub.status.busy": "2022-12-14T12:14:55.421919Z",
     "iopub.status.idle": "2022-12-14T12:14:55.430400Z",
     "shell.execute_reply": "2022-12-14T12:14:55.429851Z"
    },
    "id": "53QJwY1gUnfv"
   },
   "outputs": [],
   "source": [
    "cached_train = train.shuffle(100_000).batch(8192).cache()\n",
    "cached_test = test.batch(4096).cache()"
   ]
  },
  {
   "cell_type": "markdown",
   "metadata": {
    "id": "u8mHTxKAdTJO"
   },
   "source": [
    "Luego entrenamos el modelo"
   ]
  },
  {
   "cell_type": "code",
   "execution_count": 105,
   "metadata": {
    "execution": {
     "iopub.execute_input": "2022-12-14T12:14:55.433367Z",
     "iopub.status.busy": "2022-12-14T12:14:55.432922Z",
     "iopub.status.idle": "2022-12-14T12:15:07.835604Z",
     "shell.execute_reply": "2022-12-14T12:15:07.834902Z"
    },
    "id": "ZxPntlT8EFOZ"
   },
   "outputs": [
    {
     "name": "stdout",
     "output_type": "stream",
     "text": [
      "Epoch 1/10\n",
      "10/10 [==============================] - 6s 440ms/step - factorized_top_k/top_1_categorical_accuracy: 0.0015 - factorized_top_k/top_5_categorical_accuracy: 0.0117 - factorized_top_k/top_10_categorical_accuracy: 0.0249 - factorized_top_k/top_50_categorical_accuracy: 0.1231 - factorized_top_k/top_100_categorical_accuracy: 0.2265 - loss: 71531.3864 - regularization_loss: 0.0000e+00 - total_loss: 71531.3864\n",
      "Epoch 2/10\n",
      "10/10 [==============================] - 4s 449ms/step - factorized_top_k/top_1_categorical_accuracy: 0.0021 - factorized_top_k/top_5_categorical_accuracy: 0.0160 - factorized_top_k/top_10_categorical_accuracy: 0.0350 - factorized_top_k/top_50_categorical_accuracy: 0.1752 - factorized_top_k/top_100_categorical_accuracy: 0.3069 - loss: 65564.8125 - regularization_loss: 0.0000e+00 - total_loss: 65564.8125\n",
      "Epoch 3/10\n",
      "10/10 [==============================] - 5s 457ms/step - factorized_top_k/top_1_categorical_accuracy: 0.0026 - factorized_top_k/top_5_categorical_accuracy: 0.0206 - factorized_top_k/top_10_categorical_accuracy: 0.0449 - factorized_top_k/top_50_categorical_accuracy: 0.2057 - factorized_top_k/top_100_categorical_accuracy: 0.3440 - loss: 64820.1172 - regularization_loss: 0.0000e+00 - total_loss: 64820.1172\n",
      "Epoch 4/10\n",
      "10/10 [==============================] - 4s 444ms/step - factorized_top_k/top_1_categorical_accuracy: 0.0026 - factorized_top_k/top_5_categorical_accuracy: 0.0227 - factorized_top_k/top_10_categorical_accuracy: 0.0492 - factorized_top_k/top_50_categorical_accuracy: 0.2207 - factorized_top_k/top_100_categorical_accuracy: 0.3635 - loss: 64421.9055 - regularization_loss: 0.0000e+00 - total_loss: 64421.9055\n",
      "Epoch 5/10\n",
      "10/10 [==============================] - 4s 425ms/step - factorized_top_k/top_1_categorical_accuracy: 0.0027 - factorized_top_k/top_5_categorical_accuracy: 0.0240 - factorized_top_k/top_10_categorical_accuracy: 0.0523 - factorized_top_k/top_50_categorical_accuracy: 0.2321 - factorized_top_k/top_100_categorical_accuracy: 0.3783 - loss: 64145.4943 - regularization_loss: 0.0000e+00 - total_loss: 64145.4943\n",
      "Epoch 6/10\n",
      "10/10 [==============================] - 4s 424ms/step - factorized_top_k/top_1_categorical_accuracy: 0.0030 - factorized_top_k/top_5_categorical_accuracy: 0.0252 - factorized_top_k/top_10_categorical_accuracy: 0.0548 - factorized_top_k/top_50_categorical_accuracy: 0.2409 - factorized_top_k/top_100_categorical_accuracy: 0.3887 - loss: 63931.3686 - regularization_loss: 0.0000e+00 - total_loss: 63931.3686\n",
      "Epoch 7/10\n",
      "10/10 [==============================] - 4s 423ms/step - factorized_top_k/top_1_categorical_accuracy: 0.0033 - factorized_top_k/top_5_categorical_accuracy: 0.0261 - factorized_top_k/top_10_categorical_accuracy: 0.0568 - factorized_top_k/top_50_categorical_accuracy: 0.2482 - factorized_top_k/top_100_categorical_accuracy: 0.3973 - loss: 63759.1974 - regularization_loss: 0.0000e+00 - total_loss: 63759.1974\n",
      "Epoch 8/10\n",
      "10/10 [==============================] - 4s 431ms/step - factorized_top_k/top_1_categorical_accuracy: 0.0032 - factorized_top_k/top_5_categorical_accuracy: 0.0267 - factorized_top_k/top_10_categorical_accuracy: 0.0586 - factorized_top_k/top_50_categorical_accuracy: 0.2539 - factorized_top_k/top_100_categorical_accuracy: 0.4043 - loss: 63613.2649 - regularization_loss: 0.0000e+00 - total_loss: 63613.2649\n",
      "Epoch 9/10\n",
      "10/10 [==============================] - 4s 428ms/step - factorized_top_k/top_1_categorical_accuracy: 0.0033 - factorized_top_k/top_5_categorical_accuracy: 0.0275 - factorized_top_k/top_10_categorical_accuracy: 0.0601 - factorized_top_k/top_50_categorical_accuracy: 0.2588 - factorized_top_k/top_100_categorical_accuracy: 0.4112 - loss: 63489.7827 - regularization_loss: 0.0000e+00 - total_loss: 63489.7827\n",
      "Epoch 10/10\n",
      "10/10 [==============================] - 4s 432ms/step - factorized_top_k/top_1_categorical_accuracy: 0.0030 - factorized_top_k/top_5_categorical_accuracy: 0.0282 - factorized_top_k/top_10_categorical_accuracy: 0.0614 - factorized_top_k/top_50_categorical_accuracy: 0.2632 - factorized_top_k/top_100_categorical_accuracy: 0.4169 - loss: 63382.4070 - regularization_loss: 0.0000e+00 - total_loss: 63382.4070\n"
     ]
    },
    {
     "data": {
      "text/plain": [
       "<keras.src.callbacks.History at 0x1b31dd993d0>"
      ]
     },
     "execution_count": 105,
     "metadata": {},
     "output_type": "execute_result"
    }
   ],
   "source": [
    "log_dir = \"logs/fit/\" + datetime.datetime.now().strftime(\"%Y%m%d-%H%M%S\")\n",
    "tensorboard_callback = tf.keras.callbacks.TensorBoard(log_dir=log_dir, histogram_freq=1)\n",
    "\n",
    "model.fit(cached_train, epochs=10, callbacks=[tensorboard_callback])"
   ]
  },
  {
   "cell_type": "markdown",
   "metadata": {
    "id": "YsluR8audV9W"
   },
   "source": [
    "A medida que el modelo entrena, la pérdida disminuye y se actualiza un conjunto de métricas de recuperación top-k. Estas nos indican si el verdadero positivo se encuentra entre los elementos recuperados en el top-k del conjunto completo de candidatos. Por ejemplo, una métrica de precisión categórica top-5 de 0.2 nos indicaría que, en promedio, el verdadero positivo se encuentra entre los 5 elementos principales recuperados el 20% del tiempo."
   ]
  },
  {
   "cell_type": "markdown",
   "metadata": {
    "id": "7Gxp5RLFcv64"
   },
   "source": [
    "Ahora, evaluamos el model en el conjunto de prueba:"
   ]
  },
  {
   "cell_type": "code",
   "execution_count": 106,
   "metadata": {
    "execution": {
     "iopub.execute_input": "2022-12-14T12:15:07.839305Z",
     "iopub.status.busy": "2022-12-14T12:15:07.838763Z",
     "iopub.status.idle": "2022-12-14T12:15:10.494376Z",
     "shell.execute_reply": "2022-12-14T12:15:10.493664Z"
    },
    "id": "W-zu6HLODNeI"
   },
   "outputs": [
    {
     "name": "stdout",
     "output_type": "stream",
     "text": [
      "5/5 [==============================] - 1s 193ms/step - factorized_top_k/top_1_categorical_accuracy: 5.0000e-05 - factorized_top_k/top_5_categorical_accuracy: 9.0000e-04 - factorized_top_k/top_10_categorical_accuracy: 0.0036 - factorized_top_k/top_50_categorical_accuracy: 0.0743 - factorized_top_k/top_100_categorical_accuracy: 0.1877 - loss: 32696.2044 - regularization_loss: 0.0000e+00 - total_loss: 32696.2044\n"
     ]
    },
    {
     "data": {
      "text/plain": [
       "{'factorized_top_k/top_1_categorical_accuracy': 4.999999873689376e-05,\n",
       " 'factorized_top_k/top_5_categorical_accuracy': 0.0008999999845400453,\n",
       " 'factorized_top_k/top_10_categorical_accuracy': 0.0035500000230968,\n",
       " 'factorized_top_k/top_50_categorical_accuracy': 0.07434999942779541,\n",
       " 'factorized_top_k/top_100_categorical_accuracy': 0.18774999678134918,\n",
       " 'loss': 29655.32421875,\n",
       " 'regularization_loss': 0,\n",
       " 'total_loss': 29655.32421875}"
      ]
     },
     "execution_count": 106,
     "metadata": {},
     "output_type": "execute_result"
    }
   ],
   "source": [
    "model.evaluate(cached_test, return_dict=True, callbacks=[tensorboard_callback])"
   ]
  },
  {
   "cell_type": "markdown",
   "metadata": {
    "id": "JKZyP9A1dxit"
   },
   "source": [
    "El rendimiento en el conjunto de prueba es mucho peor que en el conjunto de entrenamiento. Esto se debe a dos factores:\n",
    "\n",
    "    - Es probable que nuestro modelo funcione mejor con los datos que ha visto porque puede memorizarlos. Este fenómeno de overfitting es especialmente fuerte cuando los modelos tienen muchos parámetros. Puede mitigarse mediante la regularización del modelo y el uso de características de usuarios y películas que ayuden al modelo a generalizar mejor a datos no vistos.\n",
    "\n",
    "    - El modelo está volviendo a recomendar algunas de las películas que los usuarios ya han visto. Estas visualizaciones positivas conocidas pueden desplazar a las películas de prueba de las principales recomendaciones de top K.\n",
    "\n",
    "El segundo fenómeno puede abordarse excluyendo las películas ya vistas de las recomendaciones de prueba."
   ]
  },
  {
   "cell_type": "markdown",
   "metadata": {
    "id": "NB2v43NJU3Xf"
   },
   "source": [
    "## Haciendo predicciones\n",
    "Ahora que tenemos un modelo, podemos hacer predicciones. usamos la capa tfrs.layers.factorized_top_k.BruteForce para hacerlo."
   ]
  },
  {
   "cell_type": "code",
   "execution_count": 93,
   "metadata": {
    "execution": {
     "iopub.execute_input": "2022-12-14T12:15:10.498294Z",
     "iopub.status.busy": "2022-12-14T12:15:10.497656Z",
     "iopub.status.idle": "2022-12-14T12:15:10.612029Z",
     "shell.execute_reply": "2022-12-14T12:15:10.611390Z"
    },
    "id": "IRD6bEtZW_8j"
   },
   "outputs": [
    {
     "name": "stdout",
     "output_type": "stream",
     "text": [
      "Recommendations for user 212: [b\"Wes Craven's New Nightmare (1994)\" b'Hellraiser: Bloodline (1996)'\n",
      " b\"Stephen King's The Langoliers (1995)\"]\n"
     ]
    }
   ],
   "source": [
    "# Creamos un modelo que tome las características de la consulta.\n",
    "index = tfrs.layers.factorized_top_k.BruteForce(model.user_model)\n",
    "# Y recomienda películas de todo el conjunto de datos de películas.\n",
    "index.index_from_dataset(\n",
    "  tf.data.Dataset.zip((movies.batch(100), movies.batch(100).map(model.movie_model)))\n",
    ")\n",
    "\n",
    "_, titles = index(tf.constant([\"21\"]))\n",
    "print(f\"Recommendations for user 212: {titles[0, :3]}\")"
   ]
  }
 ],
 "metadata": {
  "colab": {
   "collapsed_sections": [],
   "name": "basic_retrieval.ipynb",
   "private_outputs": true,
   "provenance": [],
   "toc_visible": true
  },
  "kernelspec": {
   "display_name": "Python 3",
   "language": "python",
   "name": "python3"
  },
  "language_info": {
   "codemirror_mode": {
    "name": "ipython",
    "version": 3
   },
   "file_extension": ".py",
   "mimetype": "text/x-python",
   "name": "python",
   "nbconvert_exporter": "python",
   "pygments_lexer": "ipython3",
   "version": "3.11.4"
  }
 },
 "nbformat": 4,
 "nbformat_minor": 0
}
